{
 "cells": [
  {
   "cell_type": "code",
   "execution_count": 1,
   "id": "6c6058e2",
   "metadata": {},
   "outputs": [
    {
     "name": "stdout",
     "output_type": "stream",
     "text": [
      "Requirement already satisfied: kaggle in c:\\users\\hp\\anaconda3\\lib\\site-packages (1.6.14)\n",
      "Requirement already satisfied: urllib3 in c:\\users\\hp\\anaconda3\\lib\\site-packages (from kaggle) (1.26.9)\n",
      "Requirement already satisfied: python-dateutil in c:\\users\\hp\\anaconda3\\lib\\site-packages (from kaggle) (2.8.2)\n",
      "Requirement already satisfied: tqdm in c:\\users\\hp\\anaconda3\\lib\\site-packages (from kaggle) (4.64.0)\n",
      "Requirement already satisfied: six>=1.10 in c:\\users\\hp\\anaconda3\\lib\\site-packages (from kaggle) (1.16.0)\n",
      "Requirement already satisfied: certifi>=2023.7.22 in c:\\users\\hp\\anaconda3\\lib\\site-packages (from kaggle) (2024.6.2)\n",
      "Requirement already satisfied: requests in c:\\users\\hp\\anaconda3\\lib\\site-packages (from kaggle) (2.27.1)\n",
      "Requirement already satisfied: bleach in c:\\users\\hp\\anaconda3\\lib\\site-packages (from kaggle) (4.1.0)\n",
      "Requirement already satisfied: python-slugify in c:\\users\\hp\\anaconda3\\lib\\site-packages (from kaggle) (5.0.2)\n",
      "Requirement already satisfied: webencodings in c:\\users\\hp\\anaconda3\\lib\\site-packages (from bleach->kaggle) (0.5.1)\n",
      "Requirement already satisfied: packaging in c:\\users\\hp\\anaconda3\\lib\\site-packages (from bleach->kaggle) (21.3)\n",
      "Requirement already satisfied: pyparsing!=3.0.5,>=2.0.2 in c:\\users\\hp\\anaconda3\\lib\\site-packages (from packaging->bleach->kaggle) (3.0.4)\n",
      "Requirement already satisfied: text-unidecode>=1.3 in c:\\users\\hp\\anaconda3\\lib\\site-packages (from python-slugify->kaggle) (1.3)\n",
      "Requirement already satisfied: charset-normalizer~=2.0.0 in c:\\users\\hp\\anaconda3\\lib\\site-packages (from requests->kaggle) (2.0.4)\n",
      "Requirement already satisfied: idna<4,>=2.5 in c:\\users\\hp\\anaconda3\\lib\\site-packages (from requests->kaggle) (3.3)\n",
      "Requirement already satisfied: colorama in c:\\users\\hp\\anaconda3\\lib\\site-packages (from tqdm->kaggle) (0.4.4)\n"
     ]
    }
   ],
   "source": [
    "! pip install kaggle"
   ]
  },
  {
   "cell_type": "code",
   "execution_count": 6,
   "id": "67ba36e9",
   "metadata": {},
   "outputs": [
    {
     "ename": "SyntaxError",
     "evalue": "invalid syntax (1483750018.py, line 2)",
     "output_type": "error",
     "traceback": [
      "\u001b[1;36m  Input \u001b[1;32mIn [6]\u001b[1;36m\u001b[0m\n\u001b[1;33m    http://localhost:8888/edit/Downloads/project-8%20twitter%20Dataset/kaggle.json\u001b[0m\n\u001b[1;37m         ^\u001b[0m\n\u001b[1;31mSyntaxError\u001b[0m\u001b[1;31m:\u001b[0m invalid syntax\n"
     ]
    }
   ],
   "source": [
    "# configuration the path of kaggle.json file\n",
    "http://localhost:8888/edit/Downloads/project-8%20twitter%20Dataset/kaggle.json"
   ]
  },
  {
   "cell_type": "code",
   "execution_count": 7,
   "id": "c306f7b5",
   "metadata": {},
   "outputs": [
    {
     "name": "stdout",
     "output_type": "stream",
     "text": [
      "Dataset URL: https://www.kaggle.com/datasets/kazanova/sentiment140\n",
      "License(s): other\n",
      "Downloading sentiment140.zip to C:\\Users\\HP\\Downloads\\project-8 twitter Dataset\n",
      "\n"
     ]
    },
    {
     "name": "stderr",
     "output_type": "stream",
     "text": [
      "\n",
      "  0%|          | 0.00/80.9M [00:00<?, ?B/s]\n",
      "  1%|1         | 1.00M/80.9M [00:01<02:00, 696kB/s]\n",
      "  2%|2         | 2.00M/80.9M [00:01<01:00, 1.37MB/s]\n",
      "  4%|3         | 3.00M/80.9M [00:01<00:38, 2.12MB/s]\n",
      "  6%|6         | 5.00M/80.9M [00:02<00:20, 3.91MB/s]\n",
      "  7%|7         | 6.00M/80.9M [00:02<00:16, 4.65MB/s]\n",
      "  9%|8         | 7.00M/80.9M [00:02<00:14, 5.41MB/s]\n",
      " 10%|9         | 8.00M/80.9M [00:02<00:12, 5.97MB/s]\n",
      " 12%|#2        | 10.0M/80.9M [00:02<00:09, 7.58MB/s]\n",
      " 14%|#3        | 11.0M/80.9M [00:02<00:09, 8.06MB/s]\n",
      " 15%|#4        | 12.0M/80.9M [00:02<00:08, 8.45MB/s]\n",
      " 16%|#6        | 13.0M/80.9M [00:03<00:08, 8.52MB/s]\n",
      " 17%|#7        | 14.0M/80.9M [00:03<00:07, 8.79MB/s]\n",
      " 19%|#8        | 15.0M/80.9M [00:03<00:09, 7.39MB/s]\n",
      " 21%|##1       | 17.0M/80.9M [00:03<00:07, 9.33MB/s]\n",
      " 23%|##3       | 19.0M/80.9M [00:03<00:06, 9.76MB/s]\n",
      " 25%|##4       | 20.0M/80.9M [00:03<00:06, 9.76MB/s]\n",
      " 27%|##7       | 22.0M/80.9M [00:03<00:06, 9.95MB/s]\n",
      " 28%|##8       | 23.0M/80.9M [00:04<00:06, 9.90MB/s]\n",
      " 31%|###       | 25.0M/80.9M [00:04<00:05, 9.79MB/s]\n",
      " 33%|###3      | 27.0M/80.9M [00:04<00:05, 9.88MB/s]\n",
      " 35%|###4      | 28.0M/80.9M [00:04<00:06, 9.16MB/s]\n",
      " 37%|###7      | 30.0M/80.9M [00:04<00:05, 10.1MB/s]\n",
      " 38%|###8      | 31.0M/80.9M [00:04<00:05, 9.86MB/s]\n",
      " 40%|###9      | 32.0M/80.9M [00:05<00:05, 8.60MB/s]\n",
      " 42%|####2     | 34.0M/80.9M [00:05<00:04, 10.0MB/s]\n",
      " 44%|####4     | 36.0M/80.9M [00:05<00:04, 9.93MB/s]\n",
      " 47%|####6     | 38.0M/80.9M [00:05<00:04, 10.1MB/s]\n",
      " 48%|####8     | 39.0M/80.9M [00:05<00:04, 10.1MB/s]\n",
      " 49%|####9     | 40.0M/80.9M [00:05<00:04, 10.1MB/s]\n",
      " 51%|#####     | 41.0M/80.9M [00:06<00:04, 9.44MB/s]\n",
      " 53%|#####3    | 43.0M/80.9M [00:06<00:03, 10.5MB/s]\n",
      " 54%|#####4    | 44.0M/80.9M [00:06<00:04, 7.99MB/s]\n",
      " 56%|#####5    | 45.0M/80.9M [00:06<00:04, 8.45MB/s]\n",
      " 58%|#####8    | 47.0M/80.9M [00:06<00:03, 9.09MB/s]\n",
      " 61%|######    | 49.0M/80.9M [00:06<00:03, 9.70MB/s]\n",
      " 63%|######3   | 51.0M/80.9M [00:07<00:03, 10.2MB/s]\n",
      " 64%|######4   | 52.0M/80.9M [00:07<00:03, 10.1MB/s]\n",
      " 65%|######5   | 53.0M/80.9M [00:07<00:03, 8.79MB/s]\n",
      " 68%|######7   | 55.0M/80.9M [00:07<00:02, 10.1MB/s]\n",
      " 70%|#######   | 57.0M/80.9M [00:07<00:02, 10.5MB/s]\n",
      " 73%|#######2  | 59.0M/80.9M [00:07<00:02, 10.4MB/s]\n",
      " 75%|#######5  | 61.0M/80.9M [00:08<00:02, 10.2MB/s]\n",
      " 78%|#######7  | 63.0M/80.9M [00:08<00:01, 10.1MB/s]\n",
      " 79%|#######9  | 64.0M/80.9M [00:08<00:01, 9.94MB/s]\n",
      " 80%|########  | 65.0M/80.9M [00:08<00:01, 10.0MB/s]\n",
      " 82%|########1 | 66.0M/80.9M [00:08<00:01, 9.06MB/s]\n",
      " 83%|########2 | 67.0M/80.9M [00:08<00:01, 8.94MB/s]\n",
      " 85%|########5 | 69.0M/80.9M [00:09<00:01, 10.9MB/s]\n",
      " 88%|########7 | 71.0M/80.9M [00:09<00:00, 10.8MB/s]\n",
      " 90%|######### | 73.0M/80.9M [00:09<00:00, 10.8MB/s]\n",
      " 93%|#########2| 75.0M/80.9M [00:09<00:00, 10.5MB/s]\n",
      " 95%|#########5| 77.0M/80.9M [00:09<00:00, 10.7MB/s]\n",
      " 98%|#########7| 79.0M/80.9M [00:09<00:00, 10.7MB/s]\n",
      "100%|##########| 80.9M/80.9M [00:10<00:00, 9.17MB/s]\n",
      "100%|##########| 80.9M/80.9M [00:10<00:00, 8.07MB/s]\n"
     ]
    }
   ],
   "source": [
    "# API to fetch yhe dataset from kaggle\n",
    "\n",
    "!kaggle datasets download -d kazanova/sentiment140"
   ]
  },
  {
   "cell_type": "code",
   "execution_count": null,
   "id": "858baab2",
   "metadata": {},
   "outputs": [],
   "source": []
  }
 ],
 "metadata": {
  "kernelspec": {
   "display_name": "Python 3 (ipykernel)",
   "language": "python",
   "name": "python3"
  },
  "language_info": {
   "codemirror_mode": {
    "name": "ipython",
    "version": 3
   },
   "file_extension": ".py",
   "mimetype": "text/x-python",
   "name": "python",
   "nbconvert_exporter": "python",
   "pygments_lexer": "ipython3",
   "version": "3.9.12"
  }
 },
 "nbformat": 4,
 "nbformat_minor": 5
}
